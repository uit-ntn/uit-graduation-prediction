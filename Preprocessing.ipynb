{
 "cells": [
  {
   "cell_type": "code",
   "execution_count": 91,
   "id": "ca5d45a1-dcd0-4cac-8a26-7c0410e75e15",
   "metadata": {},
   "outputs": [
    {
     "name": "stdout",
     "output_type": "stream",
     "text": [
      "Requirement already satisfied: pandas in d:\\ancacoda3\\lib\\site-packages (2.2.2)\n",
      "Requirement already satisfied: numpy in d:\\ancacoda3\\lib\\site-packages (1.26.4)\n",
      "Requirement already satisfied: matplotlib in d:\\ancacoda3\\lib\\site-packages (3.9.2)\n",
      "Requirement already satisfied: openpyxl in d:\\ancacoda3\\lib\\site-packages (3.1.5)\n",
      "Requirement already satisfied: python-dateutil>=2.8.2 in d:\\ancacoda3\\lib\\site-packages (from pandas) (2.9.0.post0)\n",
      "Requirement already satisfied: pytz>=2020.1 in d:\\ancacoda3\\lib\\site-packages (from pandas) (2024.1)\n",
      "Requirement already satisfied: tzdata>=2022.7 in d:\\ancacoda3\\lib\\site-packages (from pandas) (2023.3)\n",
      "Requirement already satisfied: contourpy>=1.0.1 in d:\\ancacoda3\\lib\\site-packages (from matplotlib) (1.2.0)\n",
      "Requirement already satisfied: cycler>=0.10 in d:\\ancacoda3\\lib\\site-packages (from matplotlib) (0.11.0)\n",
      "Requirement already satisfied: fonttools>=4.22.0 in d:\\ancacoda3\\lib\\site-packages (from matplotlib) (4.51.0)\n",
      "Requirement already satisfied: kiwisolver>=1.3.1 in d:\\ancacoda3\\lib\\site-packages (from matplotlib) (1.4.4)\n",
      "Requirement already satisfied: packaging>=20.0 in d:\\ancacoda3\\lib\\site-packages (from matplotlib) (24.1)\n",
      "Requirement already satisfied: pillow>=8 in d:\\ancacoda3\\lib\\site-packages (from matplotlib) (10.4.0)\n",
      "Requirement already satisfied: pyparsing>=2.3.1 in d:\\ancacoda3\\lib\\site-packages (from matplotlib) (3.1.2)\n",
      "Requirement already satisfied: et-xmlfile in d:\\ancacoda3\\lib\\site-packages (from openpyxl) (1.1.0)\n",
      "Requirement already satisfied: six>=1.5 in d:\\ancacoda3\\lib\\site-packages (from python-dateutil>=2.8.2->pandas) (1.16.0)\n"
     ]
    }
   ],
   "source": [
    "!pip install pandas numpy matplotlib openpyxl"
   ]
  },
  {
   "cell_type": "code",
   "execution_count": 92,
   "id": "34205885-b4a6-474b-9d5f-2f60fb6cf7cd",
   "metadata": {},
   "outputs": [],
   "source": [
    "import pandas as pd\n",
    "import numpy as np\n",
    "import matplotlib.pyplot as plt\n",
    "import seaborn as sns"
   ]
  },
  {
   "cell_type": "code",
   "execution_count": 93,
   "id": "cd554bf1-04ef-4c27-927b-4a50a4a770a6",
   "metadata": {},
   "outputs": [],
   "source": [
    "# Đọc các file Excel vào các DataFrame\n",
    "sinhvien_df = pd.read_excel('Dataset_UIT_Education/Education_dataset_V2/01.sinhvien.xlsx')\n",
    "thisinh_df = pd.read_excel('Dataset_UIT_Education/Education_dataset_V2/05.Thisinh.xlsx')\n",
    "XLHV_df = pd.read_excel('Dataset_UIT_Education/Education_dataset_V2/08.XLHV.xlsx')\n",
    "totnghiep_df = pd.read_excel('Dataset_UIT_Education/Education_dataset_V2/14.totnghiep.xlsx')\n",
    "diemrl_df = pd.read_excel('Dataset_UIT_Education/Education_dataset_V2/diemrl.xlsx')\n",
    "dtb_toankhoa_df = pd.read_excel('Dataset_UIT_Education/Education_dataset_V2/sinhvien_dtb_toankhoa.xlsx')\n",
    "dtb_hocky_df = pd.read_excel('Dataset_UIT_Education/Education_dataset_V2/sinhvien_dtb_hocky.xlsx')"
   ]
  },
  {
   "cell_type": "code",
   "execution_count": 94,
   "id": "48058cf3-0195-4044-a349-10fdd94fb3e7",
   "metadata": {},
   "outputs": [
    {
     "data": {
      "text/plain": [
       "(        id                                      mssv  xeploai     soquyetdinh  \\\n",
       " 0  76328.0  E95E7C6DXPvAibaEXe+1j/AqdkpM22DHf6P99fDJ      Khá   178/QĐ_ĐHCNTT   \n",
       " 1  76663.0  D0FE4969XPvAibaEXe/yXiKgsgy0slCmJ5EKt6Ki     Giỏi   713/QĐ_ĐHCNTT   \n",
       " 2  76664.0  40F7E8D0XPvAibaEXe+nZBq3b0XEhfcwXLmoc4Pj     Giỏi   713/QĐ_ĐHCNTT   \n",
       " 3  76665.0  0A049F45XPvAibaEXe9CtFSNMbfIz9qE7i0Fu4My      Khá   713/QĐ_ĐHCNTT   \n",
       " 4  76666.0  7A7166DAXPvAibaEXe83V/kFvw2bBZ0o/KVHZc30      Khá   713/QĐ_ĐHCNTT   \n",
       " \n",
       "      ngaycapvb  \n",
       " 0   14/04/2017  \n",
       " 1   06/10/2017  \n",
       " 2   06/10/2017  \n",
       " 3   06/10/2017  \n",
       " 4   06/10/2017  ,\n",
       "    id                                      mssv     lopsh  hocky  namhoc  drl  \\\n",
       " 0   1  2A10C466XPvAibaEXe8vcQUX+A6FeNIl5Loug1zV  ANTN2012      2    2013   81   \n",
       " 1   2  903ADF1AXPvAibaEXe9p5G9u2qRxxZEjiJjD4Ztl  ANTN2012      2    2013   88   \n",
       " 2   3  F06EDFFEXPvAibaEXe8KSegZW1rFPMNPBQ+c9rst  ANTN2012      2    2013   94   \n",
       " 3   4  AA868AD5XPvAibaEXe+1Gm1QkI5oNyTYwjwmgxhx  ANTN2012      2    2013   86   \n",
       " 4   5  E7105148XPvAibaEXe+E7LJdSZ9AW2sUcg4OSCnU  ANTN2012      2    2013   88   \n",
       " \n",
       "   ghichu  \n",
       " 0    NaN  \n",
       " 1    NaN  \n",
       " 2    NaN  \n",
       " 3    NaN  \n",
       " 4    NaN  ,\n",
       "                                        mssv  dtb_toankhoa  dtb_tichluy  \\\n",
       " 0  C410FEC4XPvAibaEXe/odi52as1TQ/z6UAtEIyTx          7.00         7.00   \n",
       " 1  4555C74CXPvAibaEXe8UBGVVSBKSkjQKdKZAX7FE          6.34         6.34   \n",
       " 2  6FB8C971XPvAibaEXe8zjuWfAVBr9Syz83phZPbU          2.31         0.00   \n",
       " 3  7D7299A4XPvAibaEXe9hYalhCsDQbVspsqAf44vo          8.21         8.21   \n",
       " 4  590263C4XPvAibaEXe9mDsFtgVHJ/lr5wIkYTfyo          8.32         8.32   \n",
       " \n",
       "    sotc_tichluy  \n",
       " 0         144.0  \n",
       " 1         153.0  \n",
       " 2           0.0  \n",
       " 3         148.0  \n",
       " 4         148.0  ,\n",
       "                                        mssv  hocky  namhoc  dtbhk  sotchk\n",
       " 0  48685401XPvAibaEXe99yNsueYx+scOnjQSx4nXO      1    2016   6.45      13\n",
       " 1  48685401XPvAibaEXe99yNsueYx+scOnjQSx4nXO      2    2016   5.86      17\n",
       " 2  48685401XPvAibaEXe99yNsueYx+scOnjQSx4nXO      1    2017   6.54      16\n",
       " 3  48685401XPvAibaEXe99yNsueYx+scOnjQSx4nXO      2    2017   5.67      23\n",
       " 4  48685401XPvAibaEXe99yNsueYx+scOnjQSx4nXO      1    2018   2.27      21)"
      ]
     },
     "execution_count": 94,
     "metadata": {},
     "output_type": "execute_result"
    }
   ],
   "source": [
    "# Kiểm tra cấu trúc và đầu ra của từng DataFrame\n",
    "sinhvien_df.head(), thisinh_df.head(), XLHV_df.head(), \n",
    "totnghiep_df.head(), diemrl_df.head(), dtb_toankhoa_df.head(), dtb_hocky_df.head()"
   ]
  },
  {
   "cell_type": "code",
   "execution_count": 95,
   "id": "42cc9ac3-ea55-4a1a-8e6a-8b86b4f42442",
   "metadata": {},
   "outputs": [
    {
     "name": "stdout",
     "output_type": "stream",
     "text": [
      "\n",
      "Thông tin kiểu dữ liệu của sinhvien_df:\n",
      "<class 'pandas.core.frame.DataFrame'>\n",
      "RangeIndex: 8316 entries, 0 to 8315\n",
      "Data columns (total 69 columns):\n",
      " #   Column          Non-Null Count  Dtype  \n",
      "---  ------          --------------  -----  \n",
      " 0   id              8295 non-null   float64\n",
      " 1   mssv            8295 non-null   object \n",
      " 2    namsinh        8294 non-null   float64\n",
      " 3    gioitinh       8295 non-null   float64\n",
      " 4    noisinh        8295 non-null   object \n",
      " 5    lopsh          8295 non-null   object \n",
      " 6    khoa           8295 non-null   object \n",
      " 7    hedt           8295 non-null   object \n",
      " 8    khoahoc        8295 non-null   float64\n",
      " 9    chuyennganh2   8295 non-null   object \n",
      " 10   tinhtrang      8295 non-null   float64\n",
      " 11   diachi_tinhtp  8295 non-null   object \n",
      " 12  Column1         1549 non-null   object \n",
      " 13  _1              1040 non-null   object \n",
      " 14  _2              669 non-null    object \n",
      " 15  _3              406 non-null    object \n",
      " 16  _4              233 non-null    object \n",
      " 17  _5              138 non-null    object \n",
      " 18  _6              81 non-null     object \n",
      " 19  _7              48 non-null     object \n",
      " 20  _8              33 non-null     object \n",
      " 21  _9              18 non-null     object \n",
      " 22  _10             11 non-null     object \n",
      " 23  _11             10 non-null     object \n",
      " 24  _12             7 non-null      object \n",
      " 25  _13             3 non-null      object \n",
      " 26  _14             3 non-null      object \n",
      " 27  _15             3 non-null      object \n",
      " 28  _16             2 non-null      object \n",
      " 29  _17             2 non-null      object \n",
      " 30  _18             2 non-null      object \n",
      " 31  _19             2 non-null      object \n",
      " 32  _20             1 non-null      object \n",
      " 33  _21             1 non-null      object \n",
      " 34  _22             1 non-null      object \n",
      " 35  _23             1 non-null      object \n",
      " 36  _24             1 non-null      object \n",
      " 37  _25             1 non-null      object \n",
      " 38  _26             1 non-null      object \n",
      " 39  _27             1 non-null      object \n",
      " 40  _28             1 non-null      object \n",
      " 41  _29             1 non-null      object \n",
      " 42  _30             1 non-null      object \n",
      " 43  _31             1 non-null      object \n",
      " 44  _32             1 non-null      object \n",
      " 45  _33             1 non-null      object \n",
      " 46  _34             1 non-null      object \n",
      " 47  _35             1 non-null      object \n",
      " 48  _36             1 non-null      object \n",
      " 49  _37             1 non-null      object \n",
      " 50  _38             1 non-null      object \n",
      " 51  _39             1 non-null      object \n",
      " 52  _40             1 non-null      object \n",
      " 53  _41             1 non-null      object \n",
      " 54  _42             1 non-null      object \n",
      " 55  _43             1 non-null      object \n",
      " 56  _44             1 non-null      object \n",
      " 57  _45             1 non-null      object \n",
      " 58  _46             1 non-null      object \n",
      " 59  _47             1 non-null      object \n",
      " 60  _48             1 non-null      object \n",
      " 61  _49             1 non-null      object \n",
      " 62  _50             1 non-null      object \n",
      " 63  _51             1 non-null      object \n",
      " 64  _52             1 non-null      object \n",
      " 65  _53             1 non-null      object \n",
      " 66  _54             1 non-null      object \n",
      " 67  _55             1 non-null      object \n",
      " 68  _56             1 non-null      object \n",
      "dtypes: float64(5), object(64)\n",
      "memory usage: 4.4+ MB\n",
      "None\n",
      "--------------------------------------------------\n"
     ]
    }
   ],
   "source": [
    "# Kiểm tra thông tin kiểu dữ liệu (dtypes) và thông tin tổng quan của từng DataFrame\n",
    "print(\"\\nThông tin kiểu dữ liệu của sinhvien_df:\")\n",
    "print(sinhvien_df.info())\n",
    "print(\"-\" * 50)"
   ]
  },
  {
   "cell_type": "code",
   "execution_count": 96,
   "id": "0faae95c-b445-4f2e-bbf4-e997c89c5c69",
   "metadata": {},
   "outputs": [
    {
     "name": "stdout",
     "output_type": "stream",
     "text": [
      "\n",
      "Thông tin kiểu dữ liệu của thisinh_df:\n",
      "<class 'pandas.core.frame.DataFrame'>\n",
      "RangeIndex: 8234 entries, 0 to 8233\n",
      "Data columns (total 6 columns):\n",
      " #   Column          Non-Null Count  Dtype  \n",
      "---  ------          --------------  -----  \n",
      " 0   mssv            8234 non-null   object \n",
      " 1   dien_tt         8234 non-null   object \n",
      " 2   diem_tt         8104 non-null   float64\n",
      " 3   lop12_matinh    6060 non-null   float64\n",
      " 4   lop12_matruong  6061 non-null   float64\n",
      " 5   TEN_TRUONG      6060 non-null   object \n",
      "dtypes: float64(3), object(3)\n",
      "memory usage: 386.1+ KB\n",
      "None\n",
      "--------------------------------------------------\n"
     ]
    }
   ],
   "source": [
    "print(\"\\nThông tin kiểu dữ liệu của thisinh_df:\")\n",
    "print(thisinh_df.info())\n",
    "print(\"-\" * 50)"
   ]
  },
  {
   "cell_type": "code",
   "execution_count": 97,
   "id": "e054f2d5-f1b6-4b30-9e7c-67dd479a33b3",
   "metadata": {},
   "outputs": [
    {
     "name": "stdout",
     "output_type": "stream",
     "text": [
      "\n",
      "Thông tin kiểu dữ liệu của XLHV_df:\n",
      "<class 'pandas.core.frame.DataFrame'>\n",
      "RangeIndex: 3452 entries, 0 to 3451\n",
      "Data columns (total 9 columns):\n",
      " #   Column      Non-Null Count  Dtype         \n",
      "---  ------      --------------  -----         \n",
      " 0   id          3445 non-null   float64       \n",
      " 1   mssv        3445 non-null   object        \n",
      " 2    tinhtrang  3445 non-null   float64       \n",
      " 3    lydo       3445 non-null   object        \n",
      " 4    hocky      2626 non-null   float64       \n",
      " 5    namhoc     3445 non-null   float64       \n",
      " 6    soqd       3445 non-null   object        \n",
      " 7    ngayqd     1680 non-null   datetime64[ns]\n",
      " 8   Column1     819 non-null    object        \n",
      "dtypes: datetime64[ns](1), float64(4), object(4)\n",
      "memory usage: 242.8+ KB\n",
      "None\n",
      "--------------------------------------------------\n"
     ]
    }
   ],
   "source": [
    "print(\"\\nThông tin kiểu dữ liệu của XLHV_df:\")\n",
    "print(XLHV_df.info())\n",
    "print(\"-\" * 50)"
   ]
  },
  {
   "cell_type": "code",
   "execution_count": 98,
   "id": "ce050ca3-32fb-44c9-bb98-55ba3cfb3927",
   "metadata": {},
   "outputs": [
    {
     "name": "stdout",
     "output_type": "stream",
     "text": [
      "\n",
      "Thông tin kiểu dữ liệu của totnghiep_df:\n",
      "<class 'pandas.core.frame.DataFrame'>\n",
      "RangeIndex: 1847 entries, 0 to 1846\n",
      "Data columns (total 5 columns):\n",
      " #   Column        Non-Null Count  Dtype  \n",
      "---  ------        --------------  -----  \n",
      " 0   id            1845 non-null   float64\n",
      " 1   mssv          1845 non-null   object \n",
      " 2    xeploai      1845 non-null   object \n",
      " 3    soquyetdinh  1845 non-null   object \n",
      " 4    ngaycapvb    1845 non-null   object \n",
      "dtypes: float64(1), object(4)\n",
      "memory usage: 72.3+ KB\n",
      "None\n",
      "--------------------------------------------------\n"
     ]
    }
   ],
   "source": [
    "print(\"\\nThông tin kiểu dữ liệu của totnghiep_df:\")\n",
    "print(totnghiep_df.info())\n",
    "print(\"-\" * 50)"
   ]
  },
  {
   "cell_type": "code",
   "execution_count": 99,
   "id": "69e85af0-9a33-4875-b778-94d05008c632",
   "metadata": {},
   "outputs": [
    {
     "name": "stdout",
     "output_type": "stream",
     "text": [
      "\n",
      "Thông tin kiểu dữ liệu của diemrl_df:\n",
      "<class 'pandas.core.frame.DataFrame'>\n",
      "RangeIndex: 111978 entries, 0 to 111977\n",
      "Data columns (total 7 columns):\n",
      " #   Column  Non-Null Count   Dtype \n",
      "---  ------  --------------   ----- \n",
      " 0   id      111978 non-null  int64 \n",
      " 1   mssv    111978 non-null  object\n",
      " 2   lopsh   101450 non-null  object\n",
      " 3   hocky   111978 non-null  int64 \n",
      " 4   namhoc  111978 non-null  int64 \n",
      " 5   drl     111978 non-null  int64 \n",
      " 6   ghichu  14768 non-null   object\n",
      "dtypes: int64(4), object(3)\n",
      "memory usage: 6.0+ MB\n",
      "None\n",
      "--------------------------------------------------\n"
     ]
    }
   ],
   "source": [
    "print(\"\\nThông tin kiểu dữ liệu của diemrl_df:\")\n",
    "print(diemrl_df.info())\n",
    "print(\"-\" * 50)"
   ]
  },
  {
   "cell_type": "code",
   "execution_count": 100,
   "id": "49c7e1e5-e573-4037-8ac5-825e6e664be5",
   "metadata": {},
   "outputs": [
    {
     "name": "stdout",
     "output_type": "stream",
     "text": [
      "\n",
      "Thông tin kiểu dữ liệu của dtb_toankhoa_df:\n",
      "<class 'pandas.core.frame.DataFrame'>\n",
      "RangeIndex: 13970 entries, 0 to 13969\n",
      "Data columns (total 4 columns):\n",
      " #   Column        Non-Null Count  Dtype  \n",
      "---  ------        --------------  -----  \n",
      " 0   mssv          13970 non-null  object \n",
      " 1   dtb_toankhoa  13648 non-null  float64\n",
      " 2   dtb_tichluy   13648 non-null  float64\n",
      " 3   sotc_tichluy  13648 non-null  float64\n",
      "dtypes: float64(3), object(1)\n",
      "memory usage: 436.7+ KB\n",
      "None\n",
      "--------------------------------------------------\n"
     ]
    }
   ],
   "source": [
    "print(\"\\nThông tin kiểu dữ liệu của dtb_toankhoa_df:\")\n",
    "print(dtb_toankhoa_df.info())\n",
    "print(\"-\" * 50)"
   ]
  },
  {
   "cell_type": "code",
   "execution_count": 101,
   "id": "4132b01b-320a-4209-bb4a-9736d751b737",
   "metadata": {},
   "outputs": [
    {
     "name": "stdout",
     "output_type": "stream",
     "text": [
      "\n",
      "Thông tin kiểu dữ liệu của dtb_hocky_df:\n",
      "<class 'pandas.core.frame.DataFrame'>\n",
      "RangeIndex: 84952 entries, 0 to 84951\n",
      "Data columns (total 5 columns):\n",
      " #   Column  Non-Null Count  Dtype  \n",
      "---  ------  --------------  -----  \n",
      " 0   mssv    84952 non-null  object \n",
      " 1   hocky   84952 non-null  int64  \n",
      " 2   namhoc  84952 non-null  int64  \n",
      " 3   dtbhk   84952 non-null  float64\n",
      " 4   sotchk  84952 non-null  int64  \n",
      "dtypes: float64(1), int64(3), object(1)\n",
      "memory usage: 3.2+ MB\n",
      "None\n",
      "--------------------------------------------------\n"
     ]
    }
   ],
   "source": [
    "print(\"\\nThông tin kiểu dữ liệu của dtb_hocky_df:\")\n",
    "print(dtb_hocky_df.info())\n",
    "print(\"-\" * 50)"
   ]
  },
  {
   "cell_type": "markdown",
   "id": "29b1e6e3-3bcd-4b35-aeba-870f25bdb2e3",
   "metadata": {},
   "source": [
    "### Thu giảm dữ liệu"
   ]
  },
  {
   "cell_type": "code",
   "execution_count": 102,
   "id": "e24ba025-2b38-4302-a7e1-7267c79fe2d4",
   "metadata": {},
   "outputs": [
    {
     "name": "stdout",
     "output_type": "stream",
     "text": [
      "Cột sau khi xử lý khoảng trắng trong DataFrame 'sinhvien':\n",
      "Index(['id', 'mssv', 'namsinh', 'gioitinh', 'noisinh', 'lopsh', 'khoa', 'hedt',\n",
      "       'khoahoc', 'chuyennganh2', 'tinhtrang', 'diachi_tinhtp', 'Column1',\n",
      "       '_1', '_2', '_3', '_4', '_5', '_6', '_7', '_8', '_9', '_10', '_11',\n",
      "       '_12', '_13', '_14', '_15', '_16', '_17', '_18', '_19', '_20', '_21',\n",
      "       '_22', '_23', '_24', '_25', '_26', '_27', '_28', '_29', '_30', '_31',\n",
      "       '_32', '_33', '_34', '_35', '_36', '_37', '_38', '_39', '_40', '_41',\n",
      "       '_42', '_43', '_44', '_45', '_46', '_47', '_48', '_49', '_50', '_51',\n",
      "       '_52', '_53', '_54', '_55', '_56'],\n",
      "      dtype='object')\n",
      "--------------------------------------------------\n",
      "Cột sau khi xử lý khoảng trắng trong DataFrame 'thisinh':\n",
      "Index(['mssv', 'dien_tt', 'diem_tt', 'lop12_matinh', 'lop12_matruong',\n",
      "       'TEN_TRUONG'],\n",
      "      dtype='object')\n",
      "--------------------------------------------------\n",
      "Cột sau khi xử lý khoảng trắng trong DataFrame 'XLHV':\n",
      "Index(['id', 'mssv', 'tinhtrang', 'lydo', 'hocky', 'namhoc', 'soqd', 'ngayqd',\n",
      "       'Column1'],\n",
      "      dtype='object')\n",
      "--------------------------------------------------\n",
      "Cột sau khi xử lý khoảng trắng trong DataFrame 'totnghiep':\n",
      "Index(['id', 'mssv', 'xeploai', 'soquyetdinh', 'ngaycapvb'], dtype='object')\n",
      "--------------------------------------------------\n",
      "Cột sau khi xử lý khoảng trắng trong DataFrame 'diemrl':\n",
      "Index(['id', 'mssv', 'lopsh', 'hocky', 'namhoc', 'drl', 'ghichu'], dtype='object')\n",
      "--------------------------------------------------\n",
      "Cột sau khi xử lý khoảng trắng trong DataFrame 'dtb_hocky':\n",
      "Index(['mssv', 'hocky', 'namhoc', 'dtbhk', 'sotchk'], dtype='object')\n",
      "--------------------------------------------------\n",
      "Cột sau khi xử lý khoảng trắng trong DataFrame 'dtb_toankhoa':\n",
      "Index(['mssv', 'dtb_toankhoa', 'dtb_tichluy', 'sotc_tichluy'], dtype='object')\n",
      "--------------------------------------------------\n"
     ]
    }
   ],
   "source": [
    "# Loại bỏ khoảng trắng ở đầu và cuối tên cột trong tất cả các DataFrame\n",
    "dfs = {\n",
    "    'sinhvien': sinhvien_df,\n",
    "    'thisinh': thisinh_df,\n",
    "    'XLHV': XLHV_df,\n",
    "    'totnghiep': totnghiep_df,\n",
    "    'diemrl': diemrl_df,\n",
    "    'dtb_hocky': dtb_hocky_df,\n",
    "    'dtb_toankhoa': dtb_toankhoa_df\n",
    "}\n",
    "\n",
    "for name, df in dfs.items():\n",
    "    df.columns = df.columns.str.strip()\n",
    "    print(f\"Cột sau khi xử lý khoảng trắng trong DataFrame '{name}':\\n{df.columns}\\n{'-'*50}\")"
   ]
  },
  {
   "cell_type": "code",
   "execution_count": 103,
   "id": "6f79d122-a235-4431-b082-ab621083eedd",
   "metadata": {},
   "outputs": [
    {
     "name": "stdout",
     "output_type": "stream",
     "text": [
      "Các cột còn lại sau khi loại bỏ trong DataFrame 'sinhvien':\n",
      "Index(['mssv', 'namsinh', 'gioitinh', 'noisinh', 'lopsh', 'khoa', 'hedt',\n",
      "       'khoahoc', 'chuyennganh2', 'tinhtrang', 'diachi_tinhtp'],\n",
      "      dtype='object')\n",
      "--------------------------------------------------\n",
      "Các cột còn lại sau khi loại bỏ trong DataFrame 'thisinh':\n",
      "Index(['mssv', 'dien_tt', 'diem_tt'], dtype='object')\n",
      "--------------------------------------------------\n",
      "Các cột còn lại sau khi loại bỏ trong DataFrame 'XLHV':\n",
      "Index(['mssv', 'tinhtrang', 'lydo', 'hocky', 'namhoc', 'soqd', 'ngayqd'], dtype='object')\n",
      "--------------------------------------------------\n",
      "Các cột còn lại sau khi loại bỏ trong DataFrame 'totnghiep':\n",
      "Index(['mssv', 'xeploai', 'soquyetdinh', 'ngaycapvb'], dtype='object')\n",
      "--------------------------------------------------\n",
      "Các cột còn lại sau khi loại bỏ trong DataFrame 'diemrl':\n",
      "Index(['mssv', 'lopsh', 'hocky', 'namhoc', 'drl'], dtype='object')\n",
      "--------------------------------------------------\n",
      "Các cột còn lại sau khi loại bỏ trong DataFrame 'dtb_hocky':\n",
      "Index(['mssv', 'hocky', 'namhoc', 'dtbhk', 'sotchk'], dtype='object')\n",
      "--------------------------------------------------\n",
      "Các cột còn lại sau khi loại bỏ trong DataFrame 'dtb_toankhoa':\n",
      "Index(['mssv', 'dtb_toankhoa', 'dtb_tichluy', 'sotc_tichluy'], dtype='object')\n",
      "--------------------------------------------------\n"
     ]
    }
   ],
   "source": [
    "# Loại bỏ các cột không cần thiết\n",
    "columns_to_drop = {\n",
    "    'sinhvien': ['id', 'Column1'] + [f'_{i}' for i in range(1, 57)],  # Các cột `_1`, `_2`, ...\n",
    "    'thisinh': ['lop12_matinh', 'lop12_matruong', 'TEN_TRUONG'],\n",
    "    'XLHV': ['id', 'Column1'],\n",
    "    'totnghiep': ['id'],\n",
    "    'diemrl': ['id', 'ghichu'],\n",
    "    'dtb_hocky': [],  # Không có cột thừa\n",
    "    'dtb_toankhoa': []  # Không có cột thừa\n",
    "}\n",
    "\n",
    "for name, df in dfs.items():\n",
    "    if name in columns_to_drop:\n",
    "        df.drop(columns=columns_to_drop[name], errors='ignore', inplace=True)\n",
    "    print(f\"Các cột còn lại sau khi loại bỏ trong DataFrame '{name}':\\n{df.columns}\\n{'-'*50}\")"
   ]
  },
  {
   "cell_type": "code",
   "execution_count": 104,
   "id": "c2923d84-9a02-4c09-97e5-ccad66e95238",
   "metadata": {},
   "outputs": [
    {
     "name": "stdout",
     "output_type": "stream",
     "text": [
      "Các cột sau khi lọc trong DataFrame 'sinhvien':\n",
      "Index(['mssv', 'namsinh', 'gioitinh', 'lopsh', 'khoa', 'hedt', 'khoahoc',\n",
      "       'chuyennganh2', 'tinhtrang', 'diachi_tinhtp'],\n",
      "      dtype='object')\n",
      "--------------------------------------------------\n",
      "Các cột sau khi lọc trong DataFrame 'thisinh':\n",
      "Index(['mssv', 'dien_tt', 'diem_tt'], dtype='object')\n",
      "--------------------------------------------------\n",
      "Các cột sau khi lọc trong DataFrame 'XLHV':\n",
      "Index(['mssv', 'tinhtrang', 'lydo', 'hocky', 'namhoc'], dtype='object')\n",
      "--------------------------------------------------\n",
      "Các cột sau khi lọc trong DataFrame 'totnghiep':\n",
      "Index(['mssv', 'xeploai'], dtype='object')\n",
      "--------------------------------------------------\n",
      "Các cột sau khi lọc trong DataFrame 'diemrl':\n",
      "Index(['mssv', 'lopsh', 'hocky', 'namhoc', 'drl'], dtype='object')\n",
      "--------------------------------------------------\n",
      "Các cột sau khi lọc trong DataFrame 'dtb_hocky':\n",
      "Index(['mssv', 'hocky', 'namhoc', 'dtbhk', 'sotchk'], dtype='object')\n",
      "--------------------------------------------------\n",
      "Các cột sau khi lọc trong DataFrame 'dtb_toankhoa':\n",
      "Index(['mssv', 'dtb_toankhoa', 'dtb_tichluy', 'sotc_tichluy'], dtype='object')\n",
      "--------------------------------------------------\n"
     ]
    }
   ],
   "source": [
    "columns_to_keep = {\n",
    "    'sinhvien': ['mssv', 'namsinh', 'gioitinh', 'lopsh', 'khoa', 'hedt', 'khoahoc', 'chuyennganh2', 'tinhtrang', 'diachi_tinhtp'],\n",
    "    'thisinh': ['mssv', 'dien_tt', 'diem_tt'],\n",
    "    'XLHV': ['mssv', 'tinhtrang', 'lydo', 'hocky', 'namhoc'],\n",
    "    'totnghiep': ['mssv', 'xeploai'],\n",
    "    'diemrl': ['mssv', 'lopsh', 'hocky', 'namhoc', 'drl'],\n",
    "    'dtb_hocky': ['mssv', 'hocky', 'namhoc', 'dtbhk', 'sotchk'],\n",
    "    'dtb_toankhoa': ['mssv', 'dtb_toankhoa', 'dtb_tichluy', 'sotc_tichluy']\n",
    "}\n",
    "\n",
    "for name, df in dfs.items():\n",
    "    cols_existing = [col for col in columns_to_keep[name] if col in df.columns]  # Chỉ lấy các cột có trong DataFrame\n",
    "    df = df[cols_existing]\n",
    "    print(f\"Các cột sau khi lọc trong DataFrame '{name}':\\n{df.columns}\\n{'-'*50}\")"
   ]
  },
  {
   "cell_type": "markdown",
   "id": "a897ab80-d267-41d4-bccd-ca72d3a9055d",
   "metadata": {},
   "source": [
    "### Hợp nhất dữ liệu"
   ]
  },
  {
   "cell_type": "code",
   "execution_count": 105,
   "id": "8f3aa323-a019-4074-a08c-270fa1fd4fc1",
   "metadata": {},
   "outputs": [
    {
     "name": "stdout",
     "output_type": "stream",
     "text": [
      "                                       mssv  namsinh  gioitinh  \\\n",
      "0  BE375BAAXPvAibaEXe9JDlHA4z2GHJ3/PVStCxR2   1995.0       1.0   \n",
      "1  BE375BAAXPvAibaEXe9JDlHA4z2GHJ3/PVStCxR2   1995.0       1.0   \n",
      "2  BE375BAAXPvAibaEXe9JDlHA4z2GHJ3/PVStCxR2   1995.0       1.0   \n",
      "3  BE375BAAXPvAibaEXe9JDlHA4z2GHJ3/PVStCxR2   1995.0       1.0   \n",
      "4  BE375BAAXPvAibaEXe9JDlHA4z2GHJ3/PVStCxR2   1995.0       1.0   \n",
      "\n",
      "            noisinh    lopsh_x   khoa   hedt  khoahoc chuyennganh2  tinhtrang  \\\n",
      "0   TP. Hồ Chí Minh   KTPM0001   CNPM   CQUI      8.0      D480103        3.0   \n",
      "1   TP. Hồ Chí Minh   KTPM0001   CNPM   CQUI      8.0      D480103        3.0   \n",
      "2   TP. Hồ Chí Minh   KTPM0001   CNPM   CQUI      8.0      D480103        3.0   \n",
      "3   TP. Hồ Chí Minh   KTPM0001   CNPM   CQUI      8.0      D480103        3.0   \n",
      "4   TP. Hồ Chí Minh   KTPM0001   CNPM   CQUI      8.0      D480103        3.0   \n",
      "\n",
      "   ... hocky_x namhoc_x   drl hocky_y namhoc_y dtbhk sotchk  dtb_toankhoa  \\\n",
      "0  ...     2.0   2013.0  77.0     1.0   2013.0  6.02   22.0          7.15   \n",
      "1  ...     2.0   2013.0  77.0     2.0   2013.0  7.03   18.0          7.15   \n",
      "2  ...     2.0   2013.0  77.0     1.0   2014.0  6.40   26.0          7.15   \n",
      "3  ...     2.0   2013.0  77.0     2.0   2014.0  7.01   19.0          7.15   \n",
      "4  ...     2.0   2013.0  77.0     1.0   2015.0  6.35   20.0          7.15   \n",
      "\n",
      "   dtb_tichluy  sotc_tichluy  \n",
      "0         7.15         155.0  \n",
      "1         7.15         155.0  \n",
      "2         7.15         155.0  \n",
      "3         7.15         155.0  \n",
      "4         7.15         155.0  \n",
      "\n",
      "[5 rows x 27 columns]\n"
     ]
    }
   ],
   "source": [
    "# Lọc các sinh viên đã tốt nghiệp từ final_df (dựa vào 'xeploai')\n",
    "sinhvien_totnghiep_df = final_df[final_df['xeploai'].notna()]  # Chỉ giữ sinh viên có 'xeploai' không rỗng\n",
    "\n",
    "# Kiểm tra số lượng sinh viên đã tốt nghiệp\n",
    "print(f\"Số lượng sinh viên đã tốt nghiệp: {sinhvien_totnghiep_df.shape[0]}\")"
   ]
  },
  {
   "cell_type": "code",
   "execution_count": 106,
   "id": "bf000f5b-4d9f-4e59-b81f-89231ab147bc",
   "metadata": {},
   "outputs": [
    {
     "name": "stdout",
     "output_type": "stream",
     "text": [
      "                                       mssv  namsinh  gioitinh  \\\n",
      "0  BE375BAAXPvAibaEXe9JDlHA4z2GHJ3/PVStCxR2   1995.0       1.0   \n",
      "1  BE375BAAXPvAibaEXe9JDlHA4z2GHJ3/PVStCxR2   1995.0       1.0   \n",
      "2  BE375BAAXPvAibaEXe9JDlHA4z2GHJ3/PVStCxR2   1995.0       1.0   \n",
      "3  BE375BAAXPvAibaEXe9JDlHA4z2GHJ3/PVStCxR2   1995.0       1.0   \n",
      "4  BE375BAAXPvAibaEXe9JDlHA4z2GHJ3/PVStCxR2   1995.0       1.0   \n",
      "\n",
      "            noisinh    lopsh_x   khoa   hedt  khoahoc chuyennganh2  tinhtrang  \\\n",
      "0   TP. Hồ Chí Minh   KTPM0001   CNPM   CQUI      8.0      D480103        3.0   \n",
      "1   TP. Hồ Chí Minh   KTPM0001   CNPM   CQUI      8.0      D480103        3.0   \n",
      "2   TP. Hồ Chí Minh   KTPM0001   CNPM   CQUI      8.0      D480103        3.0   \n",
      "3   TP. Hồ Chí Minh   KTPM0001   CNPM   CQUI      8.0      D480103        3.0   \n",
      "4   TP. Hồ Chí Minh   KTPM0001   CNPM   CQUI      8.0      D480103        3.0   \n",
      "\n",
      "   ... hocky_x namhoc_x   drl hocky_y namhoc_y dtbhk sotchk  dtb_toankhoa  \\\n",
      "0  ...     2.0   2013.0  77.0     1.0   2013.0  6.02   22.0          7.15   \n",
      "1  ...     2.0   2013.0  77.0     2.0   2013.0  7.03   18.0          7.15   \n",
      "2  ...     2.0   2013.0  77.0     1.0   2014.0  6.40   26.0          7.15   \n",
      "3  ...     2.0   2013.0  77.0     2.0   2014.0  7.01   19.0          7.15   \n",
      "4  ...     2.0   2013.0  77.0     1.0   2015.0  6.35   20.0          7.15   \n",
      "\n",
      "   dtb_tichluy  sotc_tichluy  \n",
      "0         7.15         155.0  \n",
      "1         7.15         155.0  \n",
      "2         7.15         155.0  \n",
      "3         7.15         155.0  \n",
      "4         7.15         155.0  \n",
      "\n",
      "[5 rows x 27 columns]\n"
     ]
    }
   ],
   "source": [
    "# Lọc các sinh viên đã tốt nghiệp\n",
    "sinhvien_totnghiep_df = final_df[final_df['xeploai'].notna()]\n",
    "\n",
    "# Hiển thị kết quả\n",
    "print(sinhvien_totnghiep_df.head())  # Kiểm tra 5 dòng đầu của DataFrame các sinh viên đã tốt nghiệp"
   ]
  },
  {
   "cell_type": "markdown",
   "id": "d133410d-59c0-4006-aa80-ba1faee169ef",
   "metadata": {},
   "source": [
    "### Xử lý giá trị thiếu"
   ]
  },
  {
   "cell_type": "code",
   "execution_count": 107,
   "id": "beb762ae-6107-4fad-b23f-76f170230a97",
   "metadata": {},
   "outputs": [
    {
     "name": "stdout",
     "output_type": "stream",
     "text": [
      "Số lượng giá trị thiếu trong mỗi cột:\n",
      "mssv                 42\n",
      "namsinh              43\n",
      "gioitinh             42\n",
      "noisinh              42\n",
      "lopsh_x              42\n",
      "khoa                 42\n",
      "hedt                 42\n",
      "khoahoc              42\n",
      "chuyennganh2         42\n",
      "tinhtrang            42\n",
      "diachi_tinhtp        42\n",
      "dien_tt             327\n",
      "diem_tt            9611\n",
      "xeploai          462891\n",
      "soquyetdinh      462891\n",
      "ngaycapvb        462891\n",
      "lopsh_y            9198\n",
      "hocky_x             111\n",
      "namhoc_x            111\n",
      "drl                 111\n",
      "hocky_y             330\n",
      "namhoc_y            330\n",
      "dtbhk               330\n",
      "sotchk              330\n",
      "dtb_toankhoa        327\n",
      "dtb_tichluy         327\n",
      "sotc_tichluy        327\n",
      "dtype: int64\n"
     ]
    }
   ],
   "source": [
    "# Kiểm tra số lượng giá trị thiếu trong mỗi cột\n",
    "missing_data = final_df.isnull().sum()\n",
    "print(\"Số lượng giá trị thiếu trong mỗi cột:\")\n",
    "print(missing_data)"
   ]
  },
  {
   "cell_type": "code",
   "execution_count": 108,
   "id": "0d7cc1d4-a207-4b0a-9de5-fe4bd33e559e",
   "metadata": {},
   "outputs": [
    {
     "name": "stdout",
     "output_type": "stream",
     "text": [
      "Số lượng giá trị thiếu sau khi thay thế bằng trung bình:\n",
      "mssv                 42\n",
      "namsinh               0\n",
      "gioitinh              0\n",
      "noisinh              42\n",
      "lopsh_x              42\n",
      "khoa                 42\n",
      "hedt                 42\n",
      "khoahoc               0\n",
      "chuyennganh2         42\n",
      "tinhtrang             0\n",
      "diachi_tinhtp        42\n",
      "dien_tt             327\n",
      "diem_tt               0\n",
      "xeploai          462891\n",
      "soquyetdinh      462891\n",
      "ngaycapvb        462891\n",
      "lopsh_y            9198\n",
      "hocky_x               0\n",
      "namhoc_x              0\n",
      "drl                   0\n",
      "hocky_y               0\n",
      "namhoc_y              0\n",
      "dtbhk                 0\n",
      "sotchk                0\n",
      "dtb_toankhoa          0\n",
      "dtb_tichluy           0\n",
      "sotc_tichluy          0\n",
      "dtype: int64\n"
     ]
    }
   ],
   "source": [
    "# Thay thế giá trị thiếu trong các cột số bằng trung bình của cột đó\n",
    "final_df = final_df.apply(lambda x: x.fillna(x.mean()) if x.dtype in ['float64', 'int64'] else x)\n",
    "\n",
    "# Kiểm tra lại\n",
    "missing_values_after = final_df.isna().sum()\n",
    "print(\"Số lượng giá trị thiếu sau khi thay thế bằng trung bình:\")\n",
    "print(missing_values_after)"
   ]
  },
  {
   "cell_type": "code",
   "execution_count": 109,
   "id": "a14278ba-1528-47ea-8472-cd95f1cb54ae",
   "metadata": {},
   "outputs": [],
   "source": [
    "# Hàm để phát hiện và loại bỏ outliers sử dụng IQR\n",
    "def remove_outliers_iqr(df):\n",
    "    # Tính toán Q1 (25%) và Q3 (75%)\n",
    "    Q1 = df.quantile(0.25)\n",
    "    Q3 = df.quantile(0.75)\n",
    "    IQR = Q3 - Q1\n",
    "\n",
    "    # Lọc dữ liệu không nằm ngoài phạm vi [Q1 - 1.5 * IQR, Q3 + 1.5 * IQR]\n",
    "    df_no_outliers = df[~((df < (Q1 - 1.5 * IQR)) | (df > (Q3 + 1.5 * IQR))).any(axis=1)]\n",
    "    \n",
    "    return df_no_outliers"
   ]
  },
  {
   "cell_type": "code",
   "execution_count": 110,
   "id": "e78495d5-521d-4651-9dfb-7cd28edd8db8",
   "metadata": {},
   "outputs": [
    {
     "name": "stdout",
     "output_type": "stream",
     "text": [
      "Số lượng dòng sau khi loại bỏ outliers: 383664\n"
     ]
    }
   ],
   "source": [
    "# Áp dụng hàm xử lý ngoại lai cho DataFrame, chỉ áp dụng cho các cột số\n",
    "final_df_no_outliers = remove_outliers_iqr(final_df.select_dtypes(include=[np.number]))\n",
    "\n",
    "# In thông tin về các cột sau khi xử lý\n",
    "print(\"Số lượng dòng sau khi loại bỏ outliers:\", final_df_no_outliers.shape[0])"
   ]
  },
  {
   "cell_type": "markdown",
   "id": "c340edf8-6caf-4d86-a06f-27ff2a1828b0",
   "metadata": {},
   "source": [
    "### Xử lý giá trị trùng"
   ]
  },
  {
   "cell_type": "code",
   "execution_count": 111,
   "id": "a96f1309-ba97-4ca8-830d-9088f5f9617d",
   "metadata": {},
   "outputs": [
    {
     "name": "stdout",
     "output_type": "stream",
     "text": [
      "Các bản ghi trùng trong DataFrame:\n",
      "       mssv      namsinh  gioitinh noisinh lopsh_x khoa hedt    khoahoc  \\\n",
      "439566  NaN  1997.798709  0.885099     NaN     NaN  NaN  NaN  10.935023   \n",
      "451803  NaN  1997.798709  0.885099     NaN     NaN  NaN  NaN  10.935023   \n",
      "451804  NaN  1997.798709  0.885099     NaN     NaN  NaN  NaN  10.935023   \n",
      "462023  NaN  1997.798709  0.885099     NaN     NaN  NaN  NaN  10.935023   \n",
      "462024  NaN  1997.798709  0.885099     NaN     NaN  NaN  NaN  10.935023   \n",
      "471180  NaN  1997.798709  0.885099     NaN     NaN  NaN  NaN  10.935023   \n",
      "471181  NaN  1997.798709  0.885099     NaN     NaN  NaN  NaN  10.935023   \n",
      "481121  NaN  1997.798709  0.885099     NaN     NaN  NaN  NaN  10.935023   \n",
      "481122  NaN  1997.798709  0.885099     NaN     NaN  NaN  NaN  10.935023   \n",
      "490412  NaN  1997.798709  0.885099     NaN     NaN  NaN  NaN  10.935023   \n",
      "490413  NaN  1997.798709  0.885099     NaN     NaN  NaN  NaN  10.935023   \n",
      "500575  NaN  1997.798709  0.885099     NaN     NaN  NaN  NaN  10.935023   \n",
      "500576  NaN  1997.798709  0.885099     NaN     NaN  NaN  NaN  10.935023   \n",
      "509734  NaN  1997.798709  0.885099     NaN     NaN  NaN  NaN  10.935023   \n",
      "509735  NaN  1997.798709  0.885099     NaN     NaN  NaN  NaN  10.935023   \n",
      "519266  NaN  1997.798709  0.885099     NaN     NaN  NaN  NaN  10.935023   \n",
      "519267  NaN  1997.798709  0.885099     NaN     NaN  NaN  NaN  10.935023   \n",
      "529296  NaN  1997.798709  0.885099     NaN     NaN  NaN  NaN  10.935023   \n",
      "529297  NaN  1997.798709  0.885099     NaN     NaN  NaN  NaN  10.935023   \n",
      "538918  NaN  1997.798709  0.885099     NaN     NaN  NaN  NaN  10.935023   \n",
      "538919  NaN  1997.798709  0.885099     NaN     NaN  NaN  NaN  10.935023   \n",
      "548465  NaN  1997.798709  0.885099     NaN     NaN  NaN  NaN  10.935023   \n",
      "548466  NaN  1997.798709  0.885099     NaN     NaN  NaN  NaN  10.935023   \n",
      "555265  NaN  1997.798709  0.885099     NaN     NaN  NaN  NaN  10.935023   \n",
      "555266  NaN  1997.798709  0.885099     NaN     NaN  NaN  NaN  10.935023   \n",
      "561985  NaN  1997.798709  0.885099     NaN     NaN  NaN  NaN  10.935023   \n",
      "561986  NaN  1997.798709  0.885099     NaN     NaN  NaN  NaN  10.935023   \n",
      "568288  NaN  1997.798709  0.885099     NaN     NaN  NaN  NaN  10.935023   \n",
      "568289  NaN  1997.798709  0.885099     NaN     NaN  NaN  NaN  10.935023   \n",
      "575475  NaN  1997.798709  0.885099     NaN     NaN  NaN  NaN  10.935023   \n",
      "575476  NaN  1997.798709  0.885099     NaN     NaN  NaN  NaN  10.935023   \n",
      "582687  NaN  1997.798709  0.885099     NaN     NaN  NaN  NaN  10.935023   \n",
      "582688  NaN  1997.798709  0.885099     NaN     NaN  NaN  NaN  10.935023   \n",
      "589679  NaN  1997.798709  0.885099     NaN     NaN  NaN  NaN  10.935023   \n",
      "589680  NaN  1997.798709  0.885099     NaN     NaN  NaN  NaN  10.935023   \n",
      "596744  NaN  1997.798709  0.885099     NaN     NaN  NaN  NaN  10.935023   \n",
      "596745  NaN  1997.798709  0.885099     NaN     NaN  NaN  NaN  10.935023   \n",
      "603409  NaN  1997.798709  0.885099     NaN     NaN  NaN  NaN  10.935023   \n",
      "603410  NaN  1997.798709  0.885099     NaN     NaN  NaN  NaN  10.935023   \n",
      "610593  NaN  1997.798709  0.885099     NaN     NaN  NaN  NaN  10.935023   \n",
      "610594  NaN  1997.798709  0.885099     NaN     NaN  NaN  NaN  10.935023   \n",
      "\n",
      "       chuyennganh2  tinhtrang  ...   hocky_x     namhoc_x        drl  \\\n",
      "439566          NaN   2.482063  ...  1.464849  2017.888747  76.774268   \n",
      "451803          NaN   2.482063  ...  1.464849  2017.888747  76.774268   \n",
      "451804          NaN   2.482063  ...  1.464849  2017.888747  76.774268   \n",
      "462023          NaN   2.482063  ...  1.464849  2017.888747  76.774268   \n",
      "462024          NaN   2.482063  ...  1.464849  2017.888747  76.774268   \n",
      "471180          NaN   2.482063  ...  1.464849  2017.888747  76.774268   \n",
      "471181          NaN   2.482063  ...  1.464849  2017.888747  76.774268   \n",
      "481121          NaN   2.482063  ...  1.464849  2017.888747  76.774268   \n",
      "481122          NaN   2.482063  ...  1.464849  2017.888747  76.774268   \n",
      "490412          NaN   2.482063  ...  1.464849  2017.888747  76.774268   \n",
      "490413          NaN   2.482063  ...  1.464849  2017.888747  76.774268   \n",
      "500575          NaN   2.482063  ...  1.464849  2017.888747  76.774268   \n",
      "500576          NaN   2.482063  ...  1.464849  2017.888747  76.774268   \n",
      "509734          NaN   2.482063  ...  1.464849  2017.888747  76.774268   \n",
      "509735          NaN   2.482063  ...  1.464849  2017.888747  76.774268   \n",
      "519266          NaN   2.482063  ...  1.464849  2017.888747  76.774268   \n",
      "519267          NaN   2.482063  ...  1.464849  2017.888747  76.774268   \n",
      "529296          NaN   2.482063  ...  1.464849  2017.888747  76.774268   \n",
      "529297          NaN   2.482063  ...  1.464849  2017.888747  76.774268   \n",
      "538918          NaN   2.482063  ...  1.464849  2017.888747  76.774268   \n",
      "538919          NaN   2.482063  ...  1.464849  2017.888747  76.774268   \n",
      "548465          NaN   2.482063  ...  1.464849  2017.888747  76.774268   \n",
      "548466          NaN   2.482063  ...  1.464849  2017.888747  76.774268   \n",
      "555265          NaN   2.482063  ...  1.464849  2017.888747  76.774268   \n",
      "555266          NaN   2.482063  ...  1.464849  2017.888747  76.774268   \n",
      "561985          NaN   2.482063  ...  1.464849  2017.888747  76.774268   \n",
      "561986          NaN   2.482063  ...  1.464849  2017.888747  76.774268   \n",
      "568288          NaN   2.482063  ...  1.464849  2017.888747  76.774268   \n",
      "568289          NaN   2.482063  ...  1.464849  2017.888747  76.774268   \n",
      "575475          NaN   2.482063  ...  1.464849  2017.888747  76.774268   \n",
      "575476          NaN   2.482063  ...  1.464849  2017.888747  76.774268   \n",
      "582687          NaN   2.482063  ...  1.464849  2017.888747  76.774268   \n",
      "582688          NaN   2.482063  ...  1.464849  2017.888747  76.774268   \n",
      "589679          NaN   2.482063  ...  1.464849  2017.888747  76.774268   \n",
      "589680          NaN   2.482063  ...  1.464849  2017.888747  76.774268   \n",
      "596744          NaN   2.482063  ...  1.464849  2017.888747  76.774268   \n",
      "596745          NaN   2.482063  ...  1.464849  2017.888747  76.774268   \n",
      "603409          NaN   2.482063  ...  1.464849  2017.888747  76.774268   \n",
      "603410          NaN   2.482063  ...  1.464849  2017.888747  76.774268   \n",
      "610593          NaN   2.482063  ...  1.464849  2017.888747  76.774268   \n",
      "610594          NaN   2.482063  ...  1.464849  2017.888747  76.774268   \n",
      "\n",
      "         hocky_y     namhoc_y     dtbhk     sotchk  dtb_toankhoa  dtb_tichluy  \\\n",
      "439566  1.566073  2017.672432  6.615393  16.404301      7.020068     7.317968   \n",
      "451803  1.566073  2017.672432  6.615393  16.404301      7.020068     7.317968   \n",
      "451804  1.566073  2017.672432  6.615393  16.404301      7.020068     7.317968   \n",
      "462023  1.566073  2017.672432  6.615393  16.404301      7.020068     7.317968   \n",
      "462024  1.566073  2017.672432  6.615393  16.404301      7.020068     7.317968   \n",
      "471180  1.566073  2017.672432  6.615393  16.404301      7.020068     7.317968   \n",
      "471181  1.566073  2017.672432  6.615393  16.404301      7.020068     7.317968   \n",
      "481121  1.566073  2017.672432  6.615393  16.404301      7.020068     7.317968   \n",
      "481122  1.566073  2017.672432  6.615393  16.404301      7.020068     7.317968   \n",
      "490412  1.566073  2017.672432  6.615393  16.404301      7.020068     7.317968   \n",
      "490413  1.566073  2017.672432  6.615393  16.404301      7.020068     7.317968   \n",
      "500575  1.566073  2017.672432  6.615393  16.404301      7.020068     7.317968   \n",
      "500576  1.566073  2017.672432  6.615393  16.404301      7.020068     7.317968   \n",
      "509734  1.566073  2017.672432  6.615393  16.404301      7.020068     7.317968   \n",
      "509735  1.566073  2017.672432  6.615393  16.404301      7.020068     7.317968   \n",
      "519266  1.566073  2017.672432  6.615393  16.404301      7.020068     7.317968   \n",
      "519267  1.566073  2017.672432  6.615393  16.404301      7.020068     7.317968   \n",
      "529296  1.566073  2017.672432  6.615393  16.404301      7.020068     7.317968   \n",
      "529297  1.566073  2017.672432  6.615393  16.404301      7.020068     7.317968   \n",
      "538918  1.566073  2017.672432  6.615393  16.404301      7.020068     7.317968   \n",
      "538919  1.566073  2017.672432  6.615393  16.404301      7.020068     7.317968   \n",
      "548465  1.566073  2017.672432  6.615393  16.404301      7.020068     7.317968   \n",
      "548466  1.566073  2017.672432  6.615393  16.404301      7.020068     7.317968   \n",
      "555265  1.566073  2017.672432  6.615393  16.404301      7.020068     7.317968   \n",
      "555266  1.566073  2017.672432  6.615393  16.404301      7.020068     7.317968   \n",
      "561985  1.566073  2017.672432  6.615393  16.404301      7.020068     7.317968   \n",
      "561986  1.566073  2017.672432  6.615393  16.404301      7.020068     7.317968   \n",
      "568288  1.566073  2017.672432  6.615393  16.404301      7.020068     7.317968   \n",
      "568289  1.566073  2017.672432  6.615393  16.404301      7.020068     7.317968   \n",
      "575475  1.566073  2017.672432  6.615393  16.404301      7.020068     7.317968   \n",
      "575476  1.566073  2017.672432  6.615393  16.404301      7.020068     7.317968   \n",
      "582687  1.566073  2017.672432  6.615393  16.404301      7.020068     7.317968   \n",
      "582688  1.566073  2017.672432  6.615393  16.404301      7.020068     7.317968   \n",
      "589679  1.566073  2017.672432  6.615393  16.404301      7.020068     7.317968   \n",
      "589680  1.566073  2017.672432  6.615393  16.404301      7.020068     7.317968   \n",
      "596744  1.566073  2017.672432  6.615393  16.404301      7.020068     7.317968   \n",
      "596745  1.566073  2017.672432  6.615393  16.404301      7.020068     7.317968   \n",
      "603409  1.566073  2017.672432  6.615393  16.404301      7.020068     7.317968   \n",
      "603410  1.566073  2017.672432  6.615393  16.404301      7.020068     7.317968   \n",
      "610593  1.566073  2017.672432  6.615393  16.404301      7.020068     7.317968   \n",
      "610594  1.566073  2017.672432  6.615393  16.404301      7.020068     7.317968   \n",
      "\n",
      "        sotc_tichluy  \n",
      "439566    134.394884  \n",
      "451803    134.394884  \n",
      "451804    134.394884  \n",
      "462023    134.394884  \n",
      "462024    134.394884  \n",
      "471180    134.394884  \n",
      "471181    134.394884  \n",
      "481121    134.394884  \n",
      "481122    134.394884  \n",
      "490412    134.394884  \n",
      "490413    134.394884  \n",
      "500575    134.394884  \n",
      "500576    134.394884  \n",
      "509734    134.394884  \n",
      "509735    134.394884  \n",
      "519266    134.394884  \n",
      "519267    134.394884  \n",
      "529296    134.394884  \n",
      "529297    134.394884  \n",
      "538918    134.394884  \n",
      "538919    134.394884  \n",
      "548465    134.394884  \n",
      "548466    134.394884  \n",
      "555265    134.394884  \n",
      "555266    134.394884  \n",
      "561985    134.394884  \n",
      "561986    134.394884  \n",
      "568288    134.394884  \n",
      "568289    134.394884  \n",
      "575475    134.394884  \n",
      "575476    134.394884  \n",
      "582687    134.394884  \n",
      "582688    134.394884  \n",
      "589679    134.394884  \n",
      "589680    134.394884  \n",
      "596744    134.394884  \n",
      "596745    134.394884  \n",
      "603409    134.394884  \n",
      "603410    134.394884  \n",
      "610593    134.394884  \n",
      "610594    134.394884  \n",
      "\n",
      "[41 rows x 27 columns]\n"
     ]
    }
   ],
   "source": [
    "# Kiểm tra các bản ghi trùng trong DataFrame\n",
    "duplicates = final_df[final_df.duplicated()]\n",
    "print(\"Các bản ghi trùng trong DataFrame:\")\n",
    "print(duplicates)"
   ]
  },
  {
   "cell_type": "code",
   "execution_count": 112,
   "id": "94cd7fd5-2231-4612-aea9-c024f61e8bfa",
   "metadata": {},
   "outputs": [
    {
     "name": "stdout",
     "output_type": "stream",
     "text": [
      "Số dòng sau khi loại bỏ các bản ghi trùng: 627749\n"
     ]
    }
   ],
   "source": [
    "# Loại bỏ các bản ghi trùng\n",
    "final_df_no_duplicates = final_df.drop_duplicates()\n",
    "\n",
    "# In thông tin về số dòng sau khi loại bỏ trùng lặp\n",
    "print(\"Số dòng sau khi loại bỏ các bản ghi trùng:\", final_df_no_duplicates.shape[0])"
   ]
  },
  {
   "cell_type": "markdown",
   "id": "b9b8ae09-3469-424f-9021-a9ff030605a0",
   "metadata": {},
   "source": [
    "### Xuất file excel"
   ]
  },
  {
   "cell_type": "code",
   "execution_count": 113,
   "id": "511543b8-41b3-407c-a232-3a01c371a829",
   "metadata": {},
   "outputs": [
    {
     "name": "stdout",
     "output_type": "stream",
     "text": [
      "Dữ liệu đã được xuất ra file 'merged_data.xlsx'.\n"
     ]
    }
   ],
   "source": [
    "# Xuất DataFrame 'final_df' ra file Excel\n",
    "final_df.to_excel('merged_data.xlsx', index=False)\n",
    "print(\"Dữ liệu đã được xuất ra file 'merged_data.xlsx'.\")"
   ]
  }
 ],
 "metadata": {
  "kernelspec": {
   "display_name": "Python 3 (ipykernel)",
   "language": "python",
   "name": "python3"
  },
  "language_info": {
   "codemirror_mode": {
    "name": "ipython",
    "version": 3
   },
   "file_extension": ".py",
   "mimetype": "text/x-python",
   "name": "python",
   "nbconvert_exporter": "python",
   "pygments_lexer": "ipython3",
   "version": "3.12.7"
  }
 },
 "nbformat": 4,
 "nbformat_minor": 5
}
