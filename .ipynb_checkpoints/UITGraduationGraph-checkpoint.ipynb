{
 "cells": [
  {
   "cell_type": "code",
   "execution_count": 1,
   "id": "6c21793a-1ff2-46c4-a131-5a7564f54772",
   "metadata": {},
   "outputs": [
    {
     "name": "stdout",
     "output_type": "stream",
     "text": [
      "Requirement already satisfied: networkx in d:\\ancacoda3\\lib\\site-packages (3.3)\n",
      "Requirement already satisfied: matplotlib in d:\\ancacoda3\\lib\\site-packages (3.9.2)\n",
      "Requirement already satisfied: contourpy>=1.0.1 in d:\\ancacoda3\\lib\\site-packages (from matplotlib) (1.2.0)\n",
      "Requirement already satisfied: cycler>=0.10 in d:\\ancacoda3\\lib\\site-packages (from matplotlib) (0.11.0)\n",
      "Requirement already satisfied: fonttools>=4.22.0 in d:\\ancacoda3\\lib\\site-packages (from matplotlib) (4.51.0)\n",
      "Requirement already satisfied: kiwisolver>=1.3.1 in d:\\ancacoda3\\lib\\site-packages (from matplotlib) (1.4.4)\n",
      "Requirement already satisfied: numpy>=1.23 in d:\\ancacoda3\\lib\\site-packages (from matplotlib) (1.26.4)\n",
      "Requirement already satisfied: packaging>=20.0 in d:\\ancacoda3\\lib\\site-packages (from matplotlib) (24.1)\n",
      "Requirement already satisfied: pillow>=8 in d:\\ancacoda3\\lib\\site-packages (from matplotlib) (10.4.0)\n",
      "Requirement already satisfied: pyparsing>=2.3.1 in d:\\ancacoda3\\lib\\site-packages (from matplotlib) (3.1.2)\n",
      "Requirement already satisfied: python-dateutil>=2.7 in d:\\ancacoda3\\lib\\site-packages (from matplotlib) (2.9.0.post0)\n",
      "Requirement already satisfied: six>=1.5 in d:\\ancacoda3\\lib\\site-packages (from python-dateutil>=2.7->matplotlib) (1.16.0)\n"
     ]
    }
   ],
   "source": [
    "!pip install networkx matplotlib"
   ]
  },
  {
   "cell_type": "code",
   "execution_count": 1,
   "id": "483fff18-c93f-48ee-8d57-a4b84a28449c",
   "metadata": {},
   "outputs": [],
   "source": [
    "import pandas as pd\n",
    "import networkx as nx\n",
    "import matplotlib.pyplot as plt\n",
    "from sklearn.ensemble import RandomForestClassifier\n",
    "from sklearn.model_selection import train_test_split\n",
    "from sklearn.metrics import accuracy_score\n",
    "from networkx.algorithms.community import girvan_newman"
   ]
  },
  {
   "cell_type": "code",
   "execution_count": 4,
   "id": "d14e0b0d-eaf2-4835-bf04-aa626954baa3",
   "metadata": {},
   "outputs": [
    {
     "ename": "FileNotFoundError",
     "evalue": "[Errno 2] No such file or directory: 'final_merged_data.xlsx'",
     "output_type": "error",
     "traceback": [
      "\u001b[1;31m---------------------------------------------------------------------------\u001b[0m",
      "\u001b[1;31mFileNotFoundError\u001b[0m                         Traceback (most recent call last)",
      "Cell \u001b[1;32mIn[4], line 2\u001b[0m\n\u001b[0;32m      1\u001b[0m \u001b[38;5;66;03m# Đọc dữ liệu đã được xử lý và merge vào DataFrame final_df\u001b[39;00m\n\u001b[1;32m----> 2\u001b[0m final_df \u001b[38;5;241m=\u001b[39m pd\u001b[38;5;241m.\u001b[39mread_excel(\u001b[38;5;124m'\u001b[39m\u001b[38;5;124mfinal_merged_data.xlsx\u001b[39m\u001b[38;5;124m'\u001b[39m)\n",
      "File \u001b[1;32mD:\\Ancacoda3\\Lib\\site-packages\\pandas\\io\\excel\\_base.py:495\u001b[0m, in \u001b[0;36mread_excel\u001b[1;34m(io, sheet_name, header, names, index_col, usecols, dtype, engine, converters, true_values, false_values, skiprows, nrows, na_values, keep_default_na, na_filter, verbose, parse_dates, date_parser, date_format, thousands, decimal, comment, skipfooter, storage_options, dtype_backend, engine_kwargs)\u001b[0m\n\u001b[0;32m    493\u001b[0m \u001b[38;5;28;01mif\u001b[39;00m \u001b[38;5;129;01mnot\u001b[39;00m \u001b[38;5;28misinstance\u001b[39m(io, ExcelFile):\n\u001b[0;32m    494\u001b[0m     should_close \u001b[38;5;241m=\u001b[39m \u001b[38;5;28;01mTrue\u001b[39;00m\n\u001b[1;32m--> 495\u001b[0m     io \u001b[38;5;241m=\u001b[39m ExcelFile(\n\u001b[0;32m    496\u001b[0m         io,\n\u001b[0;32m    497\u001b[0m         storage_options\u001b[38;5;241m=\u001b[39mstorage_options,\n\u001b[0;32m    498\u001b[0m         engine\u001b[38;5;241m=\u001b[39mengine,\n\u001b[0;32m    499\u001b[0m         engine_kwargs\u001b[38;5;241m=\u001b[39mengine_kwargs,\n\u001b[0;32m    500\u001b[0m     )\n\u001b[0;32m    501\u001b[0m \u001b[38;5;28;01melif\u001b[39;00m engine \u001b[38;5;129;01mand\u001b[39;00m engine \u001b[38;5;241m!=\u001b[39m io\u001b[38;5;241m.\u001b[39mengine:\n\u001b[0;32m    502\u001b[0m     \u001b[38;5;28;01mraise\u001b[39;00m \u001b[38;5;167;01mValueError\u001b[39;00m(\n\u001b[0;32m    503\u001b[0m         \u001b[38;5;124m\"\u001b[39m\u001b[38;5;124mEngine should not be specified when passing \u001b[39m\u001b[38;5;124m\"\u001b[39m\n\u001b[0;32m    504\u001b[0m         \u001b[38;5;124m\"\u001b[39m\u001b[38;5;124man ExcelFile - ExcelFile already has the engine set\u001b[39m\u001b[38;5;124m\"\u001b[39m\n\u001b[0;32m    505\u001b[0m     )\n",
      "File \u001b[1;32mD:\\Ancacoda3\\Lib\\site-packages\\pandas\\io\\excel\\_base.py:1550\u001b[0m, in \u001b[0;36mExcelFile.__init__\u001b[1;34m(self, path_or_buffer, engine, storage_options, engine_kwargs)\u001b[0m\n\u001b[0;32m   1548\u001b[0m     ext \u001b[38;5;241m=\u001b[39m \u001b[38;5;124m\"\u001b[39m\u001b[38;5;124mxls\u001b[39m\u001b[38;5;124m\"\u001b[39m\n\u001b[0;32m   1549\u001b[0m \u001b[38;5;28;01melse\u001b[39;00m:\n\u001b[1;32m-> 1550\u001b[0m     ext \u001b[38;5;241m=\u001b[39m inspect_excel_format(\n\u001b[0;32m   1551\u001b[0m         content_or_path\u001b[38;5;241m=\u001b[39mpath_or_buffer, storage_options\u001b[38;5;241m=\u001b[39mstorage_options\n\u001b[0;32m   1552\u001b[0m     )\n\u001b[0;32m   1553\u001b[0m     \u001b[38;5;28;01mif\u001b[39;00m ext \u001b[38;5;129;01mis\u001b[39;00m \u001b[38;5;28;01mNone\u001b[39;00m:\n\u001b[0;32m   1554\u001b[0m         \u001b[38;5;28;01mraise\u001b[39;00m \u001b[38;5;167;01mValueError\u001b[39;00m(\n\u001b[0;32m   1555\u001b[0m             \u001b[38;5;124m\"\u001b[39m\u001b[38;5;124mExcel file format cannot be determined, you must specify \u001b[39m\u001b[38;5;124m\"\u001b[39m\n\u001b[0;32m   1556\u001b[0m             \u001b[38;5;124m\"\u001b[39m\u001b[38;5;124man engine manually.\u001b[39m\u001b[38;5;124m\"\u001b[39m\n\u001b[0;32m   1557\u001b[0m         )\n",
      "File \u001b[1;32mD:\\Ancacoda3\\Lib\\site-packages\\pandas\\io\\excel\\_base.py:1402\u001b[0m, in \u001b[0;36minspect_excel_format\u001b[1;34m(content_or_path, storage_options)\u001b[0m\n\u001b[0;32m   1399\u001b[0m \u001b[38;5;28;01mif\u001b[39;00m \u001b[38;5;28misinstance\u001b[39m(content_or_path, \u001b[38;5;28mbytes\u001b[39m):\n\u001b[0;32m   1400\u001b[0m     content_or_path \u001b[38;5;241m=\u001b[39m BytesIO(content_or_path)\n\u001b[1;32m-> 1402\u001b[0m \u001b[38;5;28;01mwith\u001b[39;00m get_handle(\n\u001b[0;32m   1403\u001b[0m     content_or_path, \u001b[38;5;124m\"\u001b[39m\u001b[38;5;124mrb\u001b[39m\u001b[38;5;124m\"\u001b[39m, storage_options\u001b[38;5;241m=\u001b[39mstorage_options, is_text\u001b[38;5;241m=\u001b[39m\u001b[38;5;28;01mFalse\u001b[39;00m\n\u001b[0;32m   1404\u001b[0m ) \u001b[38;5;28;01mas\u001b[39;00m handle:\n\u001b[0;32m   1405\u001b[0m     stream \u001b[38;5;241m=\u001b[39m handle\u001b[38;5;241m.\u001b[39mhandle\n\u001b[0;32m   1406\u001b[0m     stream\u001b[38;5;241m.\u001b[39mseek(\u001b[38;5;241m0\u001b[39m)\n",
      "File \u001b[1;32mD:\\Ancacoda3\\Lib\\site-packages\\pandas\\io\\common.py:882\u001b[0m, in \u001b[0;36mget_handle\u001b[1;34m(path_or_buf, mode, encoding, compression, memory_map, is_text, errors, storage_options)\u001b[0m\n\u001b[0;32m    873\u001b[0m         handle \u001b[38;5;241m=\u001b[39m \u001b[38;5;28mopen\u001b[39m(\n\u001b[0;32m    874\u001b[0m             handle,\n\u001b[0;32m    875\u001b[0m             ioargs\u001b[38;5;241m.\u001b[39mmode,\n\u001b[1;32m   (...)\u001b[0m\n\u001b[0;32m    878\u001b[0m             newline\u001b[38;5;241m=\u001b[39m\u001b[38;5;124m\"\u001b[39m\u001b[38;5;124m\"\u001b[39m,\n\u001b[0;32m    879\u001b[0m         )\n\u001b[0;32m    880\u001b[0m     \u001b[38;5;28;01melse\u001b[39;00m:\n\u001b[0;32m    881\u001b[0m         \u001b[38;5;66;03m# Binary mode\u001b[39;00m\n\u001b[1;32m--> 882\u001b[0m         handle \u001b[38;5;241m=\u001b[39m \u001b[38;5;28mopen\u001b[39m(handle, ioargs\u001b[38;5;241m.\u001b[39mmode)\n\u001b[0;32m    883\u001b[0m     handles\u001b[38;5;241m.\u001b[39mappend(handle)\n\u001b[0;32m    885\u001b[0m \u001b[38;5;66;03m# Convert BytesIO or file objects passed with an encoding\u001b[39;00m\n",
      "\u001b[1;31mFileNotFoundError\u001b[0m: [Errno 2] No such file or directory: 'final_merged_data.xlsx'"
     ]
    }
   ],
   "source": [
    "# Đọc dữ liệu đã được xử lý và merge vào DataFrame final_df\n",
    "final_df = pd.read_excel('final_merged_data.xlsx')"
   ]
  },
  {
   "cell_type": "code",
   "execution_count": 5,
   "id": "32327107-5c68-47d4-9832-47751610843e",
   "metadata": {},
   "outputs": [
    {
     "name": "stdout",
     "output_type": "stream",
     "text": [
      "    id                                      mssv   namsinh   gioitinh  \\\n",
      "0  1.0  BE375BAAXPvAibaEXe9JDlHA4z2GHJ3/PVStCxR2    1995.0        1.0   \n",
      "1  2.0  2420ED57XPvAibaEXe/Lh6v1XxTKJa6JLFRUPkLM    1995.0        1.0   \n",
      "2  3.0  83B76C01XPvAibaEXe/lOccskaOiO2K46r7t4qnt    1994.0        1.0   \n",
      "3  4.0  91F785ABXPvAibaEXe/lOccskaOiO5y4GbVvuRQu    1995.0        1.0   \n",
      "4  5.0  007C275DXPvAibaEXe+TFgEDwYNnveOOmOYeYzF6    1995.0        1.0   \n",
      "\n",
      "                  noisinh      lopsh     khoa   hedt   khoahoc  chuyennganh2  \\\n",
      "0         TP. Hồ Chí Minh   KTPM0001     CNPM   CQUI       8.0       D480103   \n",
      "1               Đồng Tháp   HTTT0001     HTTT   CTTT       8.0       D480104   \n",
      "2             Hà Nam Ninh   KHMT2013     KHMT   CQUI       8.0       D480101   \n",
      "3         TP. Hồ Chí Minh   HTTT0001     HTTT   CTTT       8.0       D480104   \n",
      "4   Thành phố Hồ Chí Minh   MMTT0001   MMT&TT   CQUI       8.0       D480201   \n",
      "\n",
      "   ...  _47  _48  _49  _50  _51  _52  _53  _54  _55  _56  \n",
      "0  ...  NaN  NaN  NaN  NaN  NaN  NaN  NaN  NaN  NaN  NaN  \n",
      "1  ...  NaN  NaN  NaN  NaN  NaN  NaN  NaN  NaN  NaN  NaN  \n",
      "2  ...  NaN  NaN  NaN  NaN  NaN  NaN  NaN  NaN  NaN  NaN  \n",
      "3  ...  NaN  NaN  NaN  NaN  NaN  NaN  NaN  NaN  NaN  NaN  \n",
      "4  ...  NaN  NaN  NaN  NaN  NaN  NaN  NaN  NaN  NaN  NaN  \n",
      "\n",
      "[5 rows x 69 columns]\n",
      "                                       mssv dien_tt  diem_tt  lop12_matinh  \\\n",
      "0  7E308531XPvAibaEXe879+AOg1gh8i58Q/VMq7RU    THPT     24.5          53.0   \n",
      "1  0FCB6532XPvAibaEXe879+AOg1gh8o0EEQcYQ8HR    THPT     27.5          16.0   \n",
      "2  BAF446BFXPvAibaEXe879+AOg1gh8uQrEauqA0AG    THPT     25.0          42.0   \n",
      "3  599DFFB8XPvAibaEXe879+AOg1gh8lJvChSN7o+V    THPT     28.0          51.0   \n",
      "4  364B9E9BXPvAibaEXe879+AOg1gh8sRVdBmZSiXe    THPT     24.5          52.0   \n",
      "\n",
      "   lop12_matruong                          TEN_TRUONG  \n",
      "0            32.0                      THPT Bình Đông  \n",
      "1            41.0                        THPT Lê Xoay  \n",
      "2            21.0                        THPT Di Linh  \n",
      "3            34.0                        THPT Mỹ Hiệp  \n",
      "4            39.0  TTGDTX-HN Đất Đỏ (Trước 01/7/2019)  \n"
     ]
    }
   ],
   "source": [
    "# Hiển thị một vài dòng đầu tiên của dữ liệu\n",
    "print(students_df.head())\n",
    "print(admissions_df.head())"
   ]
  },
  {
   "cell_type": "code",
   "execution_count": 6,
   "id": "8829f127-8707-418f-b815-004a363284e3",
   "metadata": {},
   "outputs": [],
   "source": [
    "# Tạo đồ thị không hướng\n",
    "G = nx.Graph()"
   ]
  },
  {
   "cell_type": "code",
   "execution_count": 3,
   "id": "d3eb77f3-1a77-468f-b7bb-92c65cecf765",
   "metadata": {},
   "outputs": [
    {
     "ename": "NameError",
     "evalue": "name 'students_df' is not defined",
     "output_type": "error",
     "traceback": [
      "\u001b[1;31m---------------------------------------------------------------------------\u001b[0m",
      "\u001b[1;31mNameError\u001b[0m                                 Traceback (most recent call last)",
      "Cell \u001b[1;32mIn[3], line 2\u001b[0m\n\u001b[0;32m      1\u001b[0m \u001b[38;5;66;03m# Thêm các node Sinh viên từ dữ liệu\u001b[39;00m\n\u001b[1;32m----> 2\u001b[0m \u001b[38;5;28;01mfor\u001b[39;00m index, row \u001b[38;5;129;01min\u001b[39;00m students_df\u001b[38;5;241m.\u001b[39miterrows():\n\u001b[0;32m      3\u001b[0m     student_id \u001b[38;5;241m=\u001b[39m row[\u001b[38;5;124m'\u001b[39m\u001b[38;5;124mmssv\u001b[39m\u001b[38;5;124m'\u001b[39m]\n\u001b[0;32m      4\u001b[0m     G\u001b[38;5;241m.\u001b[39madd_node(student_id, \u001b[38;5;28mtype\u001b[39m\u001b[38;5;241m=\u001b[39m\u001b[38;5;124m'\u001b[39m\u001b[38;5;124mstudent\u001b[39m\u001b[38;5;124m'\u001b[39m, khoa\u001b[38;5;241m=\u001b[39mrow[\u001b[38;5;124m'\u001b[39m\u001b[38;5;124mkhoa\u001b[39m\u001b[38;5;124m'\u001b[39m], chuyennganh\u001b[38;5;241m=\u001b[39mrow[\u001b[38;5;124m'\u001b[39m\u001b[38;5;124mchuyennganh2\u001b[39m\u001b[38;5;124m'\u001b[39m])\n",
      "\u001b[1;31mNameError\u001b[0m: name 'students_df' is not defined"
     ]
    }
   ],
   "source": [
    "# Thêm các node Sinh viên từ dữ liệu\n",
    "for index, row in students_df.iterrows():\n",
    "    student_id = row['mssv']\n",
    "    G.add_node(student_id, type='student', khoa=row['khoa'], chuyennganh=row['chuyennganh2'])"
   ]
  },
  {
   "cell_type": "code",
   "execution_count": 9,
   "id": "4c29fe33-8762-445f-aa7f-63f78d560c6a",
   "metadata": {},
   "outputs": [],
   "source": [
    "# Thêm các node Kết quả trúng tuyển từ dữ liệu\n",
    "for index, row in admissions_df.iterrows():\n",
    "    admission_id = row['mssv']  # Sử dụng mssv làm key cho kết quả trúng tuyển\n",
    "    G.add_node(admission_id, type='admission', diem_tt=row['diem_tt'], dien_tt=row['dien_tt'])"
   ]
  },
  {
   "cell_type": "code",
   "execution_count": 10,
   "id": "2730522a-da35-4895-b616-48736bb946b2",
   "metadata": {},
   "outputs": [],
   "source": [
    "# Mối quan hệ (edge) giữa Sinh viên và Kết quả trúng tuyển\n",
    "edges = []"
   ]
  },
  {
   "cell_type": "code",
   "execution_count": 11,
   "id": "501da61e-2b56-4c16-8f82-eabb5ddfc0c0",
   "metadata": {},
   "outputs": [],
   "source": [
    "for index, row in admissions_df.iterrows():\n",
    "    student_id = row['mssv']\n",
    "    admission_id = f\"R{student_id}\"  # Đặt tên ID kết quả theo mã sinh viên\n",
    "    edges.append((student_id, admission_id))"
   ]
  },
  {
   "cell_type": "code",
   "execution_count": 12,
   "id": "8263ee1e-d32d-4e76-a11f-a22e810e43b6",
   "metadata": {},
   "outputs": [],
   "source": [
    "# Thêm các edge vào đồ thị\n",
    "G.add_edges_from(edges)"
   ]
  },
  {
   "cell_type": "code",
   "execution_count": 13,
   "id": "37211de9-010e-48cd-b949-edb99816a24b",
   "metadata": {},
   "outputs": [
    {
     "data": {
      "text/plain": [
       "<Figure size 1200x1000 with 0 Axes>"
      ]
     },
     "execution_count": 13,
     "metadata": {},
     "output_type": "execute_result"
    },
    {
     "data": {
      "text/plain": [
       "<Figure size 1200x1000 with 0 Axes>"
      ]
     },
     "metadata": {},
     "output_type": "display_data"
    }
   ],
   "source": [
    "# Vẽ đồ thị\n",
    "pos = nx.spring_layout(G, seed=42)  # Tạo layout cho đồ thị\n",
    "plt.figure(figsize=(12, 10))"
   ]
  },
  {
   "cell_type": "code",
   "execution_count": 14,
   "id": "b1734403-04d2-44a4-844e-e54091cd0941",
   "metadata": {},
   "outputs": [
    {
     "ename": "KeyError",
     "evalue": "'type'",
     "output_type": "error",
     "traceback": [
      "\u001b[1;31m---------------------------------------------------------------------------\u001b[0m",
      "\u001b[1;31mKeyError\u001b[0m                                  Traceback (most recent call last)",
      "Cell \u001b[1;32mIn[14], line 2\u001b[0m\n\u001b[0;32m      1\u001b[0m \u001b[38;5;66;03m# Vẽ node Sinh viên\u001b[39;00m\n\u001b[1;32m----> 2\u001b[0m nx\u001b[38;5;241m.\u001b[39mdraw_networkx_nodes(G, pos, nodelist\u001b[38;5;241m=\u001b[39m[node \u001b[38;5;28;01mfor\u001b[39;00m node, data \u001b[38;5;129;01min\u001b[39;00m G\u001b[38;5;241m.\u001b[39mnodes(data\u001b[38;5;241m=\u001b[39m\u001b[38;5;28;01mTrue\u001b[39;00m) \u001b[38;5;28;01mif\u001b[39;00m data[\u001b[38;5;124m'\u001b[39m\u001b[38;5;124mtype\u001b[39m\u001b[38;5;124m'\u001b[39m] \u001b[38;5;241m==\u001b[39m \u001b[38;5;124m'\u001b[39m\u001b[38;5;124mstudent\u001b[39m\u001b[38;5;124m'\u001b[39m],\n\u001b[0;32m      3\u001b[0m                        node_color\u001b[38;5;241m=\u001b[39m\u001b[38;5;124m'\u001b[39m\u001b[38;5;124mskyblue\u001b[39m\u001b[38;5;124m'\u001b[39m, node_size\u001b[38;5;241m=\u001b[39m\u001b[38;5;241m3000\u001b[39m, label\u001b[38;5;241m=\u001b[39m\u001b[38;5;124m'\u001b[39m\u001b[38;5;124mSinh viên\u001b[39m\u001b[38;5;124m'\u001b[39m)\n",
      "\u001b[1;31mKeyError\u001b[0m: 'type'"
     ]
    }
   ],
   "source": [
    "# Vẽ node Sinh viên\n",
    "nx.draw_networkx_nodes(G, pos, nodelist=[node for node, data in G.nodes(data=True) if data['type'] == 'student'],\n",
    "                       node_color='skyblue', node_size=3000, label='Sinh viên')"
   ]
  },
  {
   "cell_type": "code",
   "execution_count": null,
   "id": "5bc69191-0b7f-4564-8a89-41a887aed7a0",
   "metadata": {},
   "outputs": [],
   "source": [
    "# Vẽ node Kết quả trúng tuyển\n",
    "nx.draw_networkx_nodes(G, pos, nodelist=[node for node, data in G.nodes(data=True) if data['type'] == 'admission'],\n",
    "                       node_color='lightgreen', node_size=3000, label='Kết quả trúng tuyển')"
   ]
  },
  {
   "cell_type": "code",
   "execution_count": null,
   "id": "aa7c3dd6-912e-4b7c-b063-caaa32e9f437",
   "metadata": {},
   "outputs": [],
   "source": [
    "# Vẽ các cạnh\n",
    "nx.draw_networkx_edges(G, pos, width=1.0, alpha=0.7)"
   ]
  },
  {
   "cell_type": "code",
   "execution_count": null,
   "id": "138a1945-79ca-4227-a8cd-52e3610c2394",
   "metadata": {},
   "outputs": [],
   "source": [
    "# Vẽ nhãn của các node\n",
    "nx.draw_networkx_labels(G, pos, font_size=12, font_family='sans-serif')"
   ]
  },
  {
   "cell_type": "code",
   "execution_count": null,
   "id": "75def496-a1a2-4634-a1a6-acc39f1aa62a",
   "metadata": {},
   "outputs": [],
   "source": [
    "# Hiển thị đồ thị\n",
    "plt.title(\"Mô hình mạng xã hội giữa Sinh viên và Kết quả trúng tuyển\")\n",
    "plt.axis('off')  # Tắt trục tọa độ\n",
    "plt.show()"
   ]
  }
 ],
 "metadata": {
  "kernelspec": {
   "display_name": "Python 3 (ipykernel)",
   "language": "python",
   "name": "python3"
  },
  "language_info": {
   "codemirror_mode": {
    "name": "ipython",
    "version": 3
   },
   "file_extension": ".py",
   "mimetype": "text/x-python",
   "name": "python",
   "nbconvert_exporter": "python",
   "pygments_lexer": "ipython3",
   "version": "3.12.7"
  }
 },
 "nbformat": 4,
 "nbformat_minor": 5
}
